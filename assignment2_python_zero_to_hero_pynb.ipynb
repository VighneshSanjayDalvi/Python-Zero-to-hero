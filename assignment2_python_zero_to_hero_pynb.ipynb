{
  "nbformat": 4,
  "nbformat_minor": 0,
  "metadata": {
    "colab": {
      "name": "assignment2 python zero to hero.pynb",
      "provenance": [],
      "authorship_tag": "ABX9TyNkkL/9t0T96LVkYwKXxIMn",
      "include_colab_link": true
    },
    "kernelspec": {
      "name": "python3",
      "display_name": "Python 3"
    },
    "language_info": {
      "name": "python"
    }
  },
  "cells": [
    {
      "cell_type": "markdown",
      "metadata": {
        "id": "view-in-github",
        "colab_type": "text"
      },
      "source": [
        "<a href=\"https://colab.research.google.com/github/VighneshSanjayDalvi/Python-Zero-to-hero/blob/main/assignment2_python_zero_to_hero_pynb.ipynb\" target=\"_parent\"><img src=\"https://colab.research.google.com/assets/colab-badge.svg\" alt=\"Open In Colab\"/></a>"
      ]
    },
    {
      "cell_type": "code",
      "execution_count": null,
      "metadata": {
        "id": "MuA6y4Iwk67w"
      },
      "outputs": [],
      "source": [
        "\"\"\"\n",
        "Let's say, you are in a lottery competition. A group of words has been given\n",
        " to you and you are asked to select any one character(only alphabets) which\n",
        "  will get you a prize. You are a smart person and you thought of a way to \n",
        "  select a character that will have maximum chances of winning a prize i.e.\n",
        "   select the highest occurring character from the words.\n",
        "\n",
        "\n",
        "\n",
        "Given this situation you are required to write a code in Python that will \n",
        "select a character from the words that occurs the most.\n",
        "\n",
        "\n",
        "\n",
        "Note:\n",
        "\n",
        "Prizes may be allotted to the characters in any manner (sequential or \n",
        "alternate or any other way). Some characters may not be entitled for any prize.\n",
        "Ignore spaces and other special character. Consider only alphabets for prizes.\n",
        "Assume that all characters will be in lowercase.\n",
        "\n",
        "\n",
        "Example:\n",
        "\n",
        "\n",
        "\n",
        "Word Given: hello coders\n",
        "\n",
        "If Index of characters assigned with prize are as below: 0, 1, 4, 6, 8\n",
        "\n",
        "\n",
        "\n",
        "Then if you choose the characters at the above indices, only then you will win \n",
        "a prize.\n",
        "\n",
        "Selecting any of the following characters 'h' or 'e' or 'o' or 'c' or 'd' will \n",
        "only get you a prize.\n",
        "\"\"\""
      ]
    },
    {
      "cell_type": "code",
      "source": [
        "from collections import Counter\n",
        "word=\"hello coders\"\n",
        "\n",
        "print(\"select word for lottery from : \",word)\n",
        "\n",
        "x=[]\n",
        "for i in word:\n",
        "  x.append(i)\n",
        "\n",
        "# print(x)\n",
        "print(\"Frequencies : \",Counter(x))\n",
        "print(\"**** Enter your alphabet correctly . CASE SENSETIVE! ****\")\n",
        "MyAlphabet=input(\"Enter your alphabet to bet on : \")\n",
        "\n",
        "if (MyAlphabet==x[0] or MyAlphabet==x[1] or MyAlphabet==x[4] or MyAlphabet==x[6] or MyAlphabet==x[8]):\n",
        "  print(\"JACKPOT\")\n",
        "  print(\"YOU WON!\")\n",
        "else:\n",
        "  print(\"YOU LOSE!\")\n"
      ],
      "metadata": {
        "colab": {
          "base_uri": "https://localhost:8080/"
        },
        "id": "i_eAZIJ7lnaa",
        "outputId": "562b962c-dffb-441c-b54f-2068d7f8a6ac"
      },
      "execution_count": 48,
      "outputs": [
        {
          "output_type": "stream",
          "name": "stdout",
          "text": [
            "select word for lottery from :  hello coders\n",
            "Frequencies :  Counter({'e': 2, 'l': 2, 'o': 2, 'h': 1, ' ': 1, 'c': 1, 'd': 1, 'r': 1, 's': 1})\n",
            "Enter your alphabet correctly . CASE SENSETIVE!\n",
            "Enter your alphabet to bet on : h\n",
            "JACKPOT\n",
            "YOU WON!\n"
          ]
        }
      ]
    },
    {
      "cell_type": "code",
      "source": [
        ""
      ],
      "metadata": {
        "id": "YfXa3qHznNDq"
      },
      "execution_count": null,
      "outputs": []
    }
  ]
}